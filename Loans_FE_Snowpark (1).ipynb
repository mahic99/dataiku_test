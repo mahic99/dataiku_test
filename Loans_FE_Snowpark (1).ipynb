{
  "cells": [
    {
      "cell_type": "markdown",
      "metadata": {},
      "source": [
        "#### Importing the relevant libraries"
      ]
    },
    {
      "cell_type": "code",
      "execution_count": 1,
      "metadata": {},
      "outputs": [],
      "source": [
        "import dataiku\n",
        "import pandas as pd, numpy as np\n",
        "from dataiku import pandasutils as pdu\n",
        "from snowflake.snowpark import functions as F\n",
        "from snowflake.snowpark.types import IntegerType\n",
        "from dataiku.snowpark import DkuSnowpark\n",
        "from snowflake.snowpark import Session\n",
        "from snowflake.snowpark.functions import udf\n",
        "from snowflake.snowpark.session import Session\n",
        "from snowflake.snowpark import functions as F\n",
        "from snowflake.snowpark import version\n",
        "from snowflake.snowpark.types import *\n",
        "from snowflake.snowpark.functions import when, col, lit, avg, stddev, stddev_pop , round, log"
      ]
    },
    {
      "cell_type": "markdown",
      "metadata": {},
      "source": [
        "### Creating the session"
      ]
    },
    {
      "cell_type": "code",
      "execution_count": null,
      "metadata": {},
      "outputs": [],
      "source": [
        "dku_snowpark = DkuSnowpark()"
      ]
    },
    {
      "cell_type": "markdown",
      "metadata": {},
      "source": [
        "### Reading the datasets"
      ]
    },
    {
      "cell_type": "code",
      "execution_count": null,
      "metadata": {},
      "outputs": [],
      "source": [
        "LOANS = dataiku.Dataset(\"LOANS_ENRICHED_joined_prepared\")\n",
        "snowdf = dku_snowpark.get_dataframe(LOANS)"
      ]
    },
    {
      "cell_type": "code",
      "execution_count": null,
      "metadata": {},
      "outputs": [],
      "source": [
        "snowdf.count()"
      ]
    },
    {
      "cell_type": "code",
      "execution_count": null,
      "metadata": {},
      "outputs": [],
      "source": [
        "snowdf.show(2)"
      ]
    },
    {
      "cell_type": "markdown",
      "metadata": {},
      "source": [
        "### To pandas"
      ]
    },
    {
      "cell_type": "code",
      "execution_count": null,
      "metadata": {},
      "outputs": [],
      "source": [
        "snowdf_pandas=snowdf.toPandas()\n",
        "snowdf_pandas.head(5)"
      ]
    },
    {
      "cell_type": "markdown",
      "metadata": {},
      "source": [
        "### Lets do Feature Engineering using SnowPark"
      ]
    },
    {
      "cell_type": "markdown",
      "metadata": {},
      "source": [
        "### We will create a new column EMP_BUCKET,  select top 5 Emp Title and rest NA"
      ]
    },
    {
      "cell_type": "code",
      "execution_count": null,
      "metadata": {},
      "outputs": [],
      "source": [
        "snowdf_pandas['EMP_TITLE'].value_counts()"
      ]
    },
    {
      "cell_type": "code",
      "execution_count": null,
      "metadata": {},
      "outputs": [],
      "source": [
        "snowdf = snowdf.withColumn('EMP_BUCKET',\n",
        "                               when(snowdf.EMP_TITLE == 'Teacher','Teacher' )\n",
        "                               .when(snowdf.EMP_TITLE == 'Manager', 'Manager')\n",
        "                              .when(snowdf.EMP_TITLE == 'Registered Nurse', 'Registered Nurse')\n",
        "                           .when(snowdf.EMP_TITLE == 'Driver', 'Driver')\n",
        "                            .when(snowdf.EMP_TITLE == 'Owner', 'Owner')\n",
        "                               .otherwise('NA'))\n",
        "\n",
        "# Select the first set of columns\n",
        "snowdf.select(\"EMP_TITLE\",\"EMP_BUCKET\").filter(snowdf.EMP_BUCKET == 'NA').show()"
      ]
    },
    {
      "cell_type": "code",
      "execution_count": null,
      "metadata": {},
      "outputs": [],
      "source": [
        "# Select the first set of columns\n",
        "snowdf.select(\"EMP_TITLE\",\"EMP_BUCKET\").filter(snowdf.EMP_BUCKET  != 'NA').show()"
      ]
    },
    {
      "cell_type": "markdown",
      "metadata": {},
      "source": [
        "### Scaling INSTALLMENT column by creating INSTALL_NORM column"
      ]
    },
    {
      "cell_type": "code",
      "execution_count": null,
      "metadata": {},
      "outputs": [],
      "source": [
        "# Define max and min values and collect them\n",
        "\n",
        "mean_installement = snowdf.agg({'INSTALLMENT': 'mean'}).collect()[0][0]\n",
        "stddev_installement = snowdf.agg({'INSTALLMENT': 'stddev'}).collect()[0][0]\n",
        "\n",
        "# Create a new column based off the scaled data\n",
        "\n",
        "snowdf = snowdf.withColumn('INSTALL_NORM',\n",
        "                  ((snowdf['INSTALLMENT'] - mean_installement) / stddev_installement))\n",
        "\n",
        "snowdf.select(\"INSTALLMENT\",\"INSTALL_NORM\").show()"
      ]
    },
    {
      "cell_type": "markdown",
      "metadata": {},
      "source": [
        "### Count Missing rows"
      ]
    },
    {
      "cell_type": "code",
      "execution_count": null,
      "metadata": {},
      "outputs": [],
      "source": [
        "# Count missing rows\n",
        "missing_emp_length_years = snowdf.where(snowdf['EMP_LENGTH_YEARS'].isNull()).count()\n",
        "missing_emp_length_years"
      ]
    },
    {
      "cell_type": "markdown",
      "metadata": {},
      "source": [
        "### Imputing median value"
      ]
    },
    {
      "cell_type": "code",
      "execution_count": null,
      "metadata": {},
      "outputs": [],
      "source": [
        "# Calculate the median value\n",
        "\n",
        "col_median = int(snowdf.agg({'EMP_LENGTH_YEARS': 'median'}).collect()[0][0])\n",
        "\n",
        "# Replacing with the median value for that column\n",
        "snowdf=snowdf.na.fill({'EMP_LENGTH_YEARS': col_median})\n",
        "snowdf.select(\"EMP_LENGTH_YEARS\").show()"
      ]
    },
    {
      "cell_type": "code",
      "execution_count": null,
      "metadata": {},
      "outputs": [],
      "source": [
        "# Count missing rows\n",
        "missing_emp_length_years = snowdf.where(snowdf['EMP_LENGTH_YEARS'].isNull()).count()\n",
        "missing_emp_length_years"
      ]
    },
    {
      "cell_type": "markdown",
      "metadata": {},
      "source": [
        "### Dropping these columns 'EMP_TITLE','INSTALLMENT' as we will be using new columns for ML"
      ]
    },
    {
      "cell_type": "code",
      "execution_count": null,
      "metadata": {},
      "outputs": [],
      "source": [
        "# Drop the columns\n",
        "snowdf = snowdf.drop('INSTALLMENT')"
      ]
    },
    {
      "cell_type": "code",
      "execution_count": null,
      "metadata": {},
      "outputs": [],
      "source": [
        "snowdf.select(\"INSTALL_NORM\",\"EMP_LENGTH_YEARS\",\"EMP_BUCKET\").show()"
      ]
    },
    {
      "cell_type": "code",
      "execution_count": null,
      "metadata": {},
      "outputs": [],
      "source": [
        "# get output dataset\n",
        "LOANS_FE = dataiku.Dataset(\"LOANS_FE\")\n",
        "\n",
        "# write input dataframe to output dataset\n",
        "dku_snowpark.write_with_schema(LOANS_FE,snowdf)"
      ]
    }
  ],
  "metadata": {
    "createdOn": 1654779276442,
    "creationTag": {
      "lastModifiedBy": {
        "login": "dkuvhol@gmail.com"
      },
      "lastModifiedOn": 1654779276442,
      "versionNumber": 0
    },
    "creator": "dkuvhol@gmail.com",
    "customFields": {},
    "dkuGit": {
      "lastInteraction": 0
    },
    "hide_input": false,
    "kernelspec": {
      "display_name": "Python (env snowpark)",
      "language": "python",
      "name": "py-dku-venv-snowpark"
    },
    "language_info": {
      "codemirror_mode": {
        "name": "ipython",
        "version": 3
      },
      "file_extension": ".py",
      "mimetype": "text/x-python",
      "name": "python",
      "nbconvert_exporter": "python",
      "pygments_lexer": "ipython3",
      "version": "3.8.12"
    },
    "modifiedBy": "dkuvhol@gmail.com",
    "tags": [
      "deleted-recipe-editor"
    ]
  },
  "nbformat": 4,
  "nbformat_minor": 1
}
